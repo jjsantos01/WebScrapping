{
 "cells": [
  {
   "cell_type": "code",
   "execution_count": null,
   "metadata": {
    "collapsed": true
   },
   "outputs": [],
   "source": [
    "from IPython.display import Image"
   ]
  },
  {
   "cell_type": "markdown",
   "metadata": {
    "nbpresent": {
     "id": "7280e6c2-5ab7-40a9-938a-11a9cf2e28e9"
    }
   },
   "source": [
    "## Intro a Python\n",
    "\n",
    "Python es un lenguaje de alto nivel con usos muy diversos como el desarrollo web, creación de juegos y el análisis de datos. Entre las ventajas de usar Python están:\n",
    "* Es gratuito\n",
    "* Es relativamente fácil de usar\n",
    "* Es multipropósito, puede hacer muchas tareas aparte del análisis de datos.\n",
    "* Tiene miles de librerias con funciones escritas por otras personas y que pueden ser descargadas.\n",
    "* Es uno de los lenguajes más utilizados en el mundo, por lo que hay mucha información en internet para solucionar dudas.\n",
    "* Hay una alta demanda laboral de personas que sepan análisis de datos y programación, y Python está entre los programas más demandados.\n",
    "\n",
    "[en este blog](https://www.ibm.com/developerworks/community/blogs/jfp/entry/Why_Python?lang=en) pueden encontrar más razones para usar Python.\n",
    "\n",
    "### Instalación\n",
    "Hay varias distribuciones de Python, pero la más recomendada es la de **[Anaconda]()**, ya que incluye la mayoría de paquetes utilizados en análisis de datos.\n",
    "\n",
    "### Abriendo Python\n",
    "Podríamos usar Python directamente desde la consola de comandos de nuestra computadora, sin embargo lo usual es utilizar IDLES con una interfaz gráfica más amigable. Con anaconda se instalan dos programas con los que podemos trabajar Python: **Spyder** y **Jupyter Notebook**. En esta presentación vamos a utilizar el Jupyter notebook ya que es más apropiado para hacer web scrapping.\n",
    "\n",
    "Para abrir Jupyter Notebook tenemos dos opciones:\n",
    "1. Buscar entre nuestros programas instalados a Jupyter Notebook y abrirlo.\n",
    "2. Desde la terminal de comandos, nos ubicamos en la carpeta en que queremos trabajar y escribimos: \n",
    "```\n",
    "jupyter notebook\n",
    "```\n",
    "\n",
    "Se abrirá una ventana de comandos que **no debemos cerrar**.\n",
    "\n",
    "En nuestro explorador de internet se abrirá una nueva pestaña que será el host local de Jupyter, y mostrará los archivos de ese directorio.\n",
    "\n",
    "### Creando un nuevo notebok\n",
    "\n",
    "* Nos vamos a la esquina superior derecha, hacemos click en el botón que dice *New* y seleccionamos *Python [root]*\n",
    "\n",
    "* Se abrirá una nueva pestaña con un notebook y le asignamos un nombre. \n",
    "\n",
    "* En los notebooks se trabaja con celdas, en las que puede ir código o texto en markdown (permite incluir expresiones matemáticas de latex $\\hat{\\beta}^2$). En la caja superior se puede seleccionar cuál es el contenido de la celda.\n",
    "\n",
    "* Para agregar nuevas celdas hacemos click en el el símbolo $+$ en la parte superior.\n",
    "\n",
    "* Para ejecutar el código de una celda presionamos *ctrl + enter*. El resultado de la operación, si lo hay, se mostrará debajo de la celda, por ejemplo:"
   ]
  },
  {
   "cell_type": "code",
   "execution_count": 4,
   "metadata": {
    "collapsed": false
   },
   "outputs": [
    {
     "name": "stdout",
     "output_type": "stream",
     "text": [
      "hello world!\n"
     ]
    }
   ],
   "source": [
    "print 'hello world!'\n",
    "# aquí imprimimmos #"
   ]
  },
  {
   "cell_type": "markdown",
   "metadata": {},
   "source": [
    "Los notebooks de Python tienen extensión .ipynb. Los scripts normales de Python tienen extensión .py"
   ]
  },
  {
   "cell_type": "markdown",
   "metadata": {},
   "source": [
    "### Tipos de estructuras de datos en Python\n",
    "\n",
    "Python tiene diferentes tipos de estructuras en las que guarda datos. Algunas vienen incluidas en el nucleo base de Python, pero otras se importan con librerías. Para el análisis de datos usamos principalmente DataFrames de la librería [Pandas](http://pandas.pydata.org/) y arrays de [NumPy](), sin embargo para este curso usaremos principalmente listas y dicccionarios, y solo veremos un poco de DataFrames. \n",
    "\n",
    "Veamos las estructras más básicas:\n",
    "#### Listas\n",
    "es un arreglo de elementos separados por comas, encerrados en corchetes []. Cada elemento puede ser un número, texto, tuplas, listas, o diccionarios."
   ]
  },
  {
   "cell_type": "code",
   "execution_count": 20,
   "metadata": {
    "collapsed": false
   },
   "outputs": [],
   "source": [
    "L = ['Juan',89,['H',3]]"
   ]
  },
  {
   "cell_type": "markdown",
   "metadata": {},
   "source": [
    "Para indexar los elementos las listas se utilizan [] y el número de posición del elemento. Hay que tener cuidado porque en Python la enumeracion de elementos empieza desde 0, por tanto el primer elemento se indexa con 0, el segundo con 1 y así sucesivamente:"
   ]
  },
  {
   "cell_type": "markdown",
   "metadata": {},
   "source": [
    "#### Diccionarios\n",
    "\n",
    "Los diccionarios son conjuntos de elementos compuestos por parejas de un nombre y su contenido, separados usando el símbolo de dos puntos $:$. Los diccionarios se definen usando llaves {} y sus elementos de un  se separan por comas. El nombre debe ser texto y los contenidos pueden ser números, texto, tuplas, listas, o diccionarios"
   ]
  },
  {
   "cell_type": "code",
   "execution_count": 76,
   "metadata": {
    "collapsed": false,
    "nbpresent": {
     "id": "c00f0391-9db6-4146-bb12-dc0c628dba71"
    }
   },
   "outputs": [],
   "source": [
    "D = {'nombre':'Juan',\n",
    "     'apellidos':{'paterno':'Santos','materno':'Ochoa'},\n",
    "     'edad':20,\n",
    "    'nombre2':'Javier'}"
   ]
  },
  {
   "cell_type": "markdown",
   "metadata": {},
   "source": [
    "La gran diferencia entre los diccionarios y las listas, es que los primeros se indexan con los nombres definidos, mientras que las listas con números:"
   ]
  },
  {
   "cell_type": "markdown",
   "metadata": {
    "collapsed": true
   },
   "source": [
    "### Iteración\n",
    "La iteración sirve para ejecutar una tarea repetitiva en la que solo cambian uno o varios parámetros. \n",
    "En Python definimos un loop usando el comando `for`. Ejemplo:\n",
    "```python\n",
    "for i in range(10):\n",
    "    print i\n",
    "```\n",
    "\n",
    "donde:\n",
    "* `i` es el parámetro que irá cambiando en cada ciclo.\n",
    "* `range(10)` es una función que genera una lista con elementos del 0 al 9\n",
    "* `print` es la función que se aplicará a cada elemento `i`.\n",
    "\n",
    "La intuición es simple: a cada elemento `i` de la lista `range(10)` se le aplicará la función `print`\n",
    "\n",
    "Es importante notar la sintaxis del comando. Al final de la primera línea que define el `for` debe ir el símbolo $:$, y los elementos que van dentro del loop deben estar **indentados**, esto es con una tabulación (o 4 espacios simples).\n"
   ]
  },
  {
   "cell_type": "markdown",
   "metadata": {},
   "source": [
    "### Listas por comprensión\n",
    "\n",
    "Es una forma de definir listas usando iteraciones. Retomando el ejemplo anterior, podríamos construir una lista que contenga  los elementos del 0 al 9 elevados al cuadrado de dos formas:"
   ]
  },
  {
   "cell_type": "code",
   "execution_count": 61,
   "metadata": {
    "collapsed": false
   },
   "outputs": [
    {
     "name": "stdout",
     "output_type": "stream",
     "text": [
      "[0, 1, 4, 9, 16, 25, 36, 49, 64]\n"
     ]
    }
   ],
   "source": [
    "S = [] # primero defino una lista vacía donde voy a guardar los elementos\n",
    "for i in range(9):\n",
    "    S += [i**2] # en cada ciclo agrego a la lista S el elemento i al cuadrado.\n",
    "print S"
   ]
  },
  {
   "cell_type": "code",
   "execution_count": 72,
   "metadata": {
    "collapsed": false
   },
   "outputs": [
    {
     "data": {
      "text/plain": [
       "[[0], [0, 1], [0, 1, 2, 3, 4, 5]]"
      ]
     },
     "execution_count": 72,
     "metadata": {},
     "output_type": "execute_result"
    }
   ],
   "source": [
    "# usando listas por comprensión\n",
    "[[i,i**2,i**3] for i in range(10)]"
   ]
  },
  {
   "cell_type": "markdown",
   "metadata": {},
   "source": [
    "* En las listas por comprensión definimos el loop dentro de corchetes [ ]. Colocamos primero la función que se aplicará a cada elemento y después el loop.\n",
    "\n",
    "* También podríamos definir diccionarios usando listas por comprensión:"
   ]
  },
  {
   "cell_type": "code",
   "execution_count": 78,
   "metadata": {
    "collapsed": false
   },
   "outputs": [],
   "source": [
    "D2 = [{'lineal':i,'cuadrado':i**2} for i in range(10)]"
   ]
  },
  {
   "cell_type": "code",
   "execution_count": 97,
   "metadata": {
    "collapsed": false
   },
   "outputs": [
    {
     "data": {
      "text/plain": [
       "[0, 1, 2, 3, 4, 5, 6, 7, 8, 9]"
      ]
     },
     "execution_count": 97,
     "metadata": {},
     "output_type": "execute_result"
    }
   ],
   "source": [
    "[X['lineal'] for X in D2]"
   ]
  },
  {
   "cell_type": "markdown",
   "metadata": {},
   "source": [
    "## Intro a HTML"
   ]
  },
  {
   "cell_type": "markdown",
   "metadata": {},
   "source": [
    "* _Hypertext Markup Language_ (HTML) es el formato en el que están escritas las páginas web. \n",
    "\n",
    "* En un sentido muy básico, las páginas web están compuestas de texto simple y _tags_. Los tags son la estructura básica del HTML que le da formato al contenido de las páginas.\n",
    "\n",
    "* Los tags son como funciones que le dan formato al contenido definido dentro de ellos. Se definen con paréntesis angulares:\n",
    "\n",
    "        <nombreTag> contenido <\\nombretag>\n",
    "\n",
    "* Por ejemplo \n",
    "```html\n",
    "hola <b> mundo<\\b>\n",
    "```\n",
    "produciría: hola **mundo**\n",
    "\n",
    "* Los tags pueden tener atributos, que contienen información extra sobre el tipo de función que realizan o sirven para su identificación. Por ejemplo, en el elemento:\n",
    "```html\n",
    "    Esta es la página del <a href=\"www.cide.edu\" id=\"pagina cide\"> CIDE </a>\n",
    "```\n",
    "    * el nombre del tag es $a$\n",
    "    * los atributos son `href=\"www.cide.edu\"` y `id=\"pagina cide\"`\n",
    "    * El contenido es `CIDE`\n",
    "    \n",
    "Para mas detalles sobre HTML pueden consultar esta [página](http://htmldog.com/guides/html/beginner/gettingstarted/)\n",
    "\n",
    "### Cómo ver el código html de una página\n",
    "\n",
    "En la mayoría de los exploradores hay una opción para ver el código HTML de las páginas.\n",
    "* En Google Chrome, Firefox y Safari aparece la opción _ver código fuente de la página_ al dar click derecho sobre la página \n",
    "* También en Chrome y Firefox aparece la opción _inspeccionar elemento_\n",
    "\n",
    "---"
   ]
  },
  {
   "cell_type": "markdown",
   "metadata": {},
   "source": [
    "## Web scrapping\n",
    "\n",
    "El código de una página es una forma de datos semiestructurados, lo que intentaremos es buscar selectivamente los elementos de una página web que nos interesan. Para hacer web scrapping no hace falta manejar HTML, solo basta con poder indentificar los tags y sus atributos."
   ]
  },
  {
   "cell_type": "markdown",
   "metadata": {},
   "source": [
    "### Pasos para hacer web scrapping con Python\n",
    "\n",
    "#### 1) Leer la página web\n",
    "Para esta tarea usamos la librería requests, que debemos instalar una vez e importar cada vez que la utilizamos en un script.\n",
    "> La libreria requests no viene previamente instalada, así que debemos instalarla. Para hacerlo hay que ir a la terminal de comandos de la computadora y escribir:\n",
    "```\n",
    "pip install request\n",
    "```"
   ]
  },
  {
   "cell_type": "code",
   "execution_count": 102,
   "metadata": {
    "collapsed": false
   },
   "outputs": [],
   "source": [
    "import requests\n",
    "pagina = requests.get('http://www.lnpp.cide.edu').content"
   ]
  },
  {
   "cell_type": "markdown",
   "metadata": {},
   "source": [
    "En lo que se sigue del curso, nos guiaremos de un código HTML que no está en internet, así que creamos un objeto _string_ que lo contiene"
   ]
  },
  {
   "cell_type": "code",
   "execution_count": 105,
   "metadata": {
    "collapsed": false
   },
   "outputs": [],
   "source": [
    "html_doc = \"\"\"\n",
    "<html><head><title>The Dormouse's story</title></head>\n",
    "<body>\n",
    "<p class=\"title\"><b>The Dormouse's story</b></p>\n",
    "\n",
    "<p class=\"story\">Once upon a time there were three little sisters; and their names were\n",
    "<a href=\"http://example.com/elsie\" class=\"sister\" id=\"link1\">Elsie</a>,\n",
    "<a href=\"http://example.com/lacie\" class=\"sister\" id=\"link2\">Lacie</a> and\n",
    "<a href=\"http://example.com/tillie\" class=\"sister\" id=\"link3\">Tillie</a>;\n",
    "and they lived at the bottom of a well.</p>\n",
    "\n",
    "<p class=\"story\">...</p>\n",
    "\"\"\""
   ]
  },
  {
   "cell_type": "markdown",
   "metadata": {},
   "source": [
    "#### 2) Procesar el código HTML\n",
    "Para esta tarea usamos la librería BeautifulSoup, que debemos instalar una vez e importar cada vez que la utilizamos en un script.\n",
    "> La libreria BeautifulSoup no viene previamente instalada, así que debemos instalarla. Para hacerlo hay que ir a la terminal de comandos de la computadora y escribir:\n",
    "```\n",
    "pip install beautifulsoup4\n",
    "```"
   ]
  },
  {
   "cell_type": "code",
   "execution_count": 106,
   "metadata": {
    "collapsed": false
   },
   "outputs": [
    {
     "name": "stdout",
     "output_type": "stream",
     "text": [
      "Requirement already satisfied: beautifulsoup4 in c:\\anaconda2\\lib\\site-packages\n"
     ]
    }
   ],
   "source": [
    "!pip install beautifulsoup4"
   ]
  },
  {
   "cell_type": "code",
   "execution_count": 108,
   "metadata": {
    "collapsed": false
   },
   "outputs": [],
   "source": [
    "from bs4 import BeautifulSoup as Bsoup\n",
    "BS = Bsoup(html_doc,'lxml')"
   ]
  },
  {
   "cell_type": "code",
   "execution_count": 112,
   "metadata": {
    "collapsed": false
   },
   "outputs": [
    {
     "data": {
      "text/plain": [
       "<html><head><title>The Dormouse's story</title></head>\\n<body>\\n<p class=\"title\"><b>The Dormouse's story</b></p>\\n<p class=\"story\">Once upon a time there were three little sisters; and their names were\\n<a class=\"sister\" href=\"http://example.com/elsie\" id=\"link1\">Elsie</a>,\\n<a class=\"sister\" href=\"http://example.com/lacie\" id=\"link2\">Lacie</a> and\\n<a class=\"sister\" href=\"http://example.com/tillie\" id=\"link3\">Tillie</a>;\\nand they lived at the bottom of a well.</p>\\n<p class=\"story\">...</p>\\n</body></html>"
      ]
     },
     "execution_count": 112,
     "metadata": {},
     "output_type": "execute_result"
    }
   ],
   "source": [
    "BS"
   ]
  },
  {
   "cell_type": "markdown",
   "metadata": {},
   "source": [
    "#### 3) Seleccionar los elementos de los que nos interesa recuperar la información\n",
    "Hay varias formas de seleccionar los elementos del código que nos interesan. Para ello ya debemos tener identificado en el código los tags y/o atributos que los identifican. La forma más fácil de obtenerlos es usando la función \n",
    "```\n",
    "BS.find_all(#tag,#atributo)\n",
    "```\n",
    " Esta función tiene 2 parámetros: \n",
    "* tag: este argumento puede ser texto o una lista, si son varios tags. Este argumento es opcional\n",
    "* atributo:pueden ser uno o más atributos del tag, con su correspondiente valor. Es un argumento opcional\n",
    "\n",
    "El o los resultados que arroja la función se encuentran en una lista. "
   ]
  },
  {
   "cell_type": "code",
   "execution_count": 113,
   "metadata": {
    "collapsed": false,
    "nbpresent": {
     "id": "42597dcf-c452-4242-a1df-86201fd3fc3b"
    }
   },
   "outputs": [
    {
     "data": {
      "text/plain": [
       "[<a class=\"sister\" href=\"http://example.com/elsie\" id=\"link1\">Elsie</a>,\n",
       " <a class=\"sister\" href=\"http://example.com/lacie\" id=\"link2\">Lacie</a>,\n",
       " <a class=\"sister\" href=\"http://example.com/tillie\" id=\"link3\">Tillie</a>]"
      ]
     },
     "execution_count": 113,
     "metadata": {},
     "output_type": "execute_result"
    }
   ],
   "source": [
    "# Todos los elementos que tienen el tag a\n",
    "BS.find_all('a')"
   ]
  },
  {
   "cell_type": "code",
   "execution_count": 115,
   "metadata": {
    "collapsed": false
   },
   "outputs": [
    {
     "data": {
      "text/plain": [
       "[<b>The Dormouse's story</b>,\n",
       " <a class=\"sister\" href=\"http://example.com/elsie\" id=\"link1\">Elsie</a>,\n",
       " <a class=\"sister\" href=\"http://example.com/lacie\" id=\"link2\">Lacie</a>,\n",
       " <a class=\"sister\" href=\"http://example.com/tillie\" id=\"link3\">Tillie</a>]"
      ]
     },
     "execution_count": 115,
     "metadata": {},
     "output_type": "execute_result"
    }
   ],
   "source": [
    "# todos los elementos que tienen el tag a o el b\n",
    "BS.find_all(['a','b'])"
   ]
  },
  {
   "cell_type": "code",
   "execution_count": 116,
   "metadata": {
    "collapsed": false
   },
   "outputs": [
    {
     "data": {
      "text/plain": [
       "[<a class=\"sister\" href=\"http://example.com/lacie\" id=\"link2\">Lacie</a>]"
      ]
     },
     "execution_count": 116,
     "metadata": {},
     "output_type": "execute_result"
    }
   ],
   "source": [
    "# el elemento con el tag a y cuyo id es link2\n",
    "BS.find_all('a', id='link2')"
   ]
  },
  {
   "cell_type": "code",
   "execution_count": 117,
   "metadata": {
    "collapsed": false
   },
   "outputs": [
    {
     "data": {
      "text/plain": [
       "[<p class=\"title\"><b>The Dormouse's story</b></p>]"
      ]
     },
     "execution_count": 117,
     "metadata": {},
     "output_type": "execute_result"
    }
   ],
   "source": [
    "# el elemento cuya clase es title\n",
    "BS.find_all(class_='title')\n",
    "# NOTA: Cuando se usa el atributo class debe colocarse con un guión bajo al final, ya que en python el nombre class está reservado"
   ]
  },
  {
   "cell_type": "code",
   "execution_count": 122,
   "metadata": {
    "collapsed": false
   },
   "outputs": [
    {
     "data": {
      "text/plain": [
       "[<a class=\"sister\" href=\"http://example.com/tillie\" id=\"link3\">Tillie</a>]"
      ]
     },
     "execution_count": 122,
     "metadata": {},
     "output_type": "execute_result"
    }
   ],
   "source": [
    "# el elemnto con el tag a, cuya clase es title y id es link3\n",
    "BS.find_all('a', class_='sister',id='link3')"
   ]
  },
  {
   "cell_type": "code",
   "execution_count": 125,
   "metadata": {
    "collapsed": true
   },
   "outputs": [],
   "source": [
    "import re"
   ]
  },
  {
   "cell_type": "code",
   "execution_count": 128,
   "metadata": {
    "collapsed": false
   },
   "outputs": [
    {
     "data": {
      "text/plain": [
       "[<a class=\"sister\" href=\"http://example.com/elsie\" id=\"link1\">Elsie</a>,\n",
       " <a class=\"sister\" href=\"http://example.com/tillie\" id=\"link3\">Tillie</a>]"
      ]
     },
     "execution_count": 128,
     "metadata": {},
     "output_type": "execute_result"
    }
   ],
   "source": [
    "# el elemento con el tag a que contiene el texto Elsie\n",
    "BS.find_all('a', string=re.compile('l'))"
   ]
  },
  {
   "cell_type": "markdown",
   "metadata": {},
   "source": [
    "#### 4. Obtener y guardar la información de interés\n",
    "Una vez tenemos los elementos, debemos obtener la información que nos interesa de cada uno de ellos. Recordemos que los resultados de `find_all()` vienen en una lista, así que tendremos que iterar a través de los elementos de esa lista.\n",
    "\n",
    "Usualmente la información que queremos recuperar puede ser el **el valor de un atributo** o **el texto contenido**.\n",
    "\n",
    "Supongamos que queremos obtener el link del primer elemento que hay en nuestro código html:"
   ]
  },
  {
   "cell_type": "code",
   "execution_count": 179,
   "metadata": {
    "collapsed": false
   },
   "outputs": [
    {
     "data": {
      "text/plain": [
       "'http://example.com/elsie'"
      ]
     },
     "execution_count": 179,
     "metadata": {},
     "output_type": "execute_result"
    }
   ],
   "source": [
    "# para obtener el valor del atributo href\n",
    "BS.find_all('a')[0]['href']"
   ]
  },
  {
   "cell_type": "code",
   "execution_count": 140,
   "metadata": {
    "collapsed": false
   },
   "outputs": [
    {
     "data": {
      "text/plain": [
       "[<a class=\"sister\" href=\"http://example.com/elsie\" id=\"link1\">Elsie</a>,\n",
       " <a class=\"sister\" href=\"http://example.com/lacie\" id=\"link2\">Lacie</a>,\n",
       " <a class=\"sister\" href=\"http://example.com/tillie\" id=\"link3\">Tillie</a>]"
      ]
     },
     "execution_count": 140,
     "metadata": {},
     "output_type": "execute_result"
    }
   ],
   "source": [
    "BS.find_all('a')"
   ]
  },
  {
   "cell_type": "code",
   "execution_count": 141,
   "metadata": {
    "collapsed": false
   },
   "outputs": [
    {
     "data": {
      "text/plain": [
       "['http://example.com/elsie',\n",
       " 'http://example.com/lacie',\n",
       " 'http://example.com/tillie']"
      ]
     },
     "execution_count": 141,
     "metadata": {},
     "output_type": "execute_result"
    }
   ],
   "source": [
    "# o podríamos obtenerlos todos con un loop\n",
    "[x['href'] for x in BS.find_all('a')]"
   ]
  },
  {
   "cell_type": "code",
   "execution_count": 142,
   "metadata": {
    "collapsed": false
   },
   "outputs": [
    {
     "data": {
      "text/plain": [
       "[u'Elsie', u'Lacie', u'Tillie']"
      ]
     },
     "execution_count": 142,
     "metadata": {},
     "output_type": "execute_result"
    }
   ],
   "source": [
    "# para obtener el texto:\n",
    "[x.text for x in BS.find_all('a')]"
   ]
  },
  {
   "cell_type": "code",
   "execution_count": null,
   "metadata": {
    "collapsed": false
   },
   "outputs": [],
   "source": []
  },
  {
   "cell_type": "code",
   "execution_count": 146,
   "metadata": {
    "collapsed": false
   },
   "outputs": [
    {
     "data": {
      "text/plain": [
       "[{'id': 'link1', 'link': 'http://example.com/elsie', 'nombre': u'Elsie'},\n",
       " {'id': 'link2', 'link': 'http://example.com/lacie', 'nombre': u'Lacie'},\n",
       " {'id': 'link3', 'link': 'http://example.com/tillie', 'nombre': u'Tillie'}]"
      ]
     },
     "execution_count": 146,
     "metadata": {},
     "output_type": "execute_result"
    }
   ],
   "source": [
    "# y podemos guardarlo todo en una lista con diccionarios:\n",
    "base1 = [{'nombre':x.text,'id':x['id'],'link':x['href']} for x in BS.find_all('a')]\n",
    "base1"
   ]
  },
  {
   "cell_type": "markdown",
   "metadata": {},
   "source": [
    "lo podemos convertir en  una base de datos y exportarlo en formato csv usando la librería `pandas`"
   ]
  },
  {
   "cell_type": "code",
   "execution_count": 147,
   "metadata": {
    "collapsed": false
   },
   "outputs": [
    {
     "data": {
      "text/html": [
       "<div>\n",
       "<table border=\"1\" class=\"dataframe\">\n",
       "  <thead>\n",
       "    <tr style=\"text-align: right;\">\n",
       "      <th></th>\n",
       "      <th>id</th>\n",
       "      <th>link</th>\n",
       "      <th>nombre</th>\n",
       "    </tr>\n",
       "  </thead>\n",
       "  <tbody>\n",
       "    <tr>\n",
       "      <th>0</th>\n",
       "      <td>link1</td>\n",
       "      <td>http://example.com/elsie</td>\n",
       "      <td>Elsie</td>\n",
       "    </tr>\n",
       "    <tr>\n",
       "      <th>1</th>\n",
       "      <td>link2</td>\n",
       "      <td>http://example.com/lacie</td>\n",
       "      <td>Lacie</td>\n",
       "    </tr>\n",
       "    <tr>\n",
       "      <th>2</th>\n",
       "      <td>link3</td>\n",
       "      <td>http://example.com/tillie</td>\n",
       "      <td>Tillie</td>\n",
       "    </tr>\n",
       "  </tbody>\n",
       "</table>\n",
       "</div>"
      ],
      "text/plain": [
       "      id                       link  nombre\n",
       "0  link1   http://example.com/elsie   Elsie\n",
       "1  link2   http://example.com/lacie   Lacie\n",
       "2  link3  http://example.com/tillie  Tillie"
      ]
     },
     "execution_count": 147,
     "metadata": {},
     "output_type": "execute_result"
    }
   ],
   "source": [
    "import pandas as pd\n",
    "data = pd.DataFrame.from_records(base1)\n",
    "data"
   ]
  },
  {
   "cell_type": "code",
   "execution_count": 194,
   "metadata": {
    "collapsed": true
   },
   "outputs": [],
   "source": [
    "# exportamos a csv\n",
    "data.to_csv('datos.csv')"
   ]
  },
  {
   "cell_type": "markdown",
   "metadata": {},
   "source": [
    "### Ejemplo práctico\n",
    "Vamos a scrapear la sección de lacteos del supermercado Walmart. Queremos formar una base de datos con el producto, el precio y el link a la página web del producto. "
   ]
  },
  {
   "cell_type": "code",
   "execution_count": 150,
   "metadata": {
    "collapsed": false
   },
   "outputs": [],
   "source": [
    "# página web que vamos a scrappear. \n",
    "web = 'https://super.walmart.com.mx/Lacteos/Leche-Fresca/Deslactosada-y-light/_/N-95e?storeId=0000009999'\n",
    "# Hacemos el request y el procesamiento en BS en un solo paso\n",
    "BS2 = Bsoup(requests.get(web).content,'lxml')"
   ]
  },
  {
   "cell_type": "markdown",
   "metadata": {},
   "source": [
    "explorando el código vemos que el tag **`div`**, con el atributo **`class=\"product-detail-container\"`** contiene los datos que nos interesan. Sin embargo, solo los que están dentro del **`div`** con **`class=\"listing-wrapper grid-view\"`**"
   ]
  },
  {
   "cell_type": "code",
   "execution_count": 153,
   "metadata": {
    "collapsed": false
   },
   "outputs": [
    {
     "data": {
      "text/plain": [
       "[<div class=\"product-detail-container\">\\n<div class=\"product-title\">\\n<!-- Title goes here -->\\n<a href=\"/Leche-Fresca/Leche-Alpura-deslactosada-light-250-ml/00750105590556?storeId=0000009999\"><span itemprop=\"name\">Leche Alpura deslactosada light 250 ml </span></a>\\n</div>\\n<div class=\"grid-view-promotional-row\">\\n</div>\\n<div class=\"price-strikethrough\">\\n<span>\\n</span>\\n</div>\\n<div class=\"price-wrap p-price price\" itemscope=\"\" itemtype=\"https://schema.org/Offer\">\\n<span>\\n<span content=\"USD\" itemprop=\"priceCurrency\">$</span>\\n<span content=\"6.5\" itemprop=\"price\">6.50</span>\\n</span>\\n</div>\\n</div>,\n",
       " <div class=\"product-detail-container\">\\n<div class=\"product-title\">\\n<!-- Title goes here -->\\n<a href=\"/Leche-Fresca/Leche-Parmalat-light-deslactosada-1-l/00070823698377?storeId=0000009999\"><span itemprop=\"name\">Leche Parmalat light deslactosada 1 l </span></a>\\n</div>\\n<div class=\"grid-view-promotional-row\">\\n</div>\\n<div class=\"price-strikethrough\">\\n<span>\\n</span>\\n</div>\\n<div class=\"price-wrap p-price price\" itemscope=\"\" itemtype=\"https://schema.org/Offer\">\\n<span>\\n<span content=\"USD\" itemprop=\"priceCurrency\">$</span>\\n<span content=\"16.2\" itemprop=\"price\">16.20</span>\\n</span>\\n</div>\\n</div>,\n",
       " <div class=\"product-detail-container\">\\n<div class=\"product-title\">\\n<!-- Title goes here -->\\n<a href=\"/Leche-Fresca/Leche-Alpura-deslactosada-250-ml/00750105590497?storeId=0000009999\"><span itemprop=\"name\">Leche Alpura deslactosada 250 ml </span></a>\\n</div>\\n<div class=\"grid-view-promotional-row\">\\n</div>\\n<div class=\"price-strikethrough\">\\n<span>\\n</span>\\n</div>\\n<div class=\"price-wrap p-price price\" itemscope=\"\" itemtype=\"https://schema.org/Offer\">\\n<span>\\n<span content=\"USD\" itemprop=\"priceCurrency\">$</span>\\n<span content=\"6.5\" itemprop=\"price\">6.50</span>\\n</span>\\n</div>\\n</div>,\n",
       " <div class=\"product-detail-container\">\\n<div class=\"product-title\">\\n<!-- Title goes here -->\\n<a href=\"/Leche-Fresca/Producto-lacteo-Nutri-Leche-deslactosado-1-l/00750102054439?storeId=0000009999\"><span itemprop=\"name\">Producto l\\xe1cteo Nutri Leche deslactosado 1 l </span></a>\\n</div>\\n<div class=\"grid-view-promotional-row\">\\n</div>\\n<div class=\"price-strikethrough\">\\n<span>\\n</span>\\n</div>\\n<div class=\"price-wrap p-price price\" itemscope=\"\" itemtype=\"https://schema.org/Offer\">\\n<span>\\n<span content=\"USD\" itemprop=\"priceCurrency\">$</span>\\n<span content=\"13.9\" itemprop=\"price\">13.90</span>\\n</span>\\n</div>\\n</div>,\n",
       " <div class=\"product-detail-container\">\\n<div class=\"product-title\">\\n<!-- Title goes here -->\\n<a href=\"/Leche-Fresca/Leche-Sello-Rojo-light-1-l/00750120970449?storeId=0000009999\"><span itemprop=\"name\">Leche Sello Rojo light 1 l </span></a>\\n</div>\\n<div class=\"grid-view-promotional-row\">\\n</div>\\n<div class=\"price-strikethrough\">\\n<span>\\n</span>\\n</div>\\n<div class=\"price-wrap p-price price\" itemscope=\"\" itemtype=\"https://schema.org/Offer\">\\n<span>\\n<span content=\"USD\" itemprop=\"priceCurrency\">$</span>\\n<span content=\"16.0\" itemprop=\"price\">16.00</span>\\n</span>\\n</div>\\n</div>,\n",
       " <div class=\"product-detail-container\">\\n<div class=\"product-title\">\\n<!-- Title goes here -->\\n<a href=\"/Leche-Fresca/Mezcla-de-leche-Forti-Leche-con-grasa-vegetal-deslactosada-1-l/00750105590913?storeId=0000009999\"><span itemprop=\"name\">Mezcla de leche Forti Leche con grasa vegetal deslactosada 1 l </span></a>\\n</div>\\n<div class=\"grid-view-promotional-row\">\\n</div>\\n<div class=\"price-strikethrough\">\\n<span>\\n</span>\\n</div>\\n<div class=\"price-wrap p-price price\" itemscope=\"\" itemtype=\"https://schema.org/Offer\">\\n<span>\\n<span content=\"USD\" itemprop=\"priceCurrency\">$</span>\\n<span content=\"14.7\" itemprop=\"price\">14.70</span>\\n</span>\\n</div>\\n</div>,\n",
       " <div class=\"product-detail-container\">\\n<div class=\"product-title\">\\n<!-- Title goes here -->\\n<a href=\"/Leche-Fresca/Leche-Santa-Clara-light-deslactosada-1-l/00750105534900?storeId=0000009999\"><span itemprop=\"name\">Leche Santa Clara light  deslactosada 1 l </span></a>\\n</div>\\n<div class=\"grid-view-promotional-row\">\\n</div>\\n<div class=\"price-strikethrough\">\\n<span>\\n</span>\\n</div>\\n<div class=\"price-wrap p-price price\" itemscope=\"\" itemtype=\"https://schema.org/Offer\">\\n<span>\\n<span content=\"USD\" itemprop=\"priceCurrency\">$</span>\\n<span content=\"19.0\" itemprop=\"price\">19.00</span>\\n</span>\\n</div>\\n</div>,\n",
       " <div class=\"product-detail-container\">\\n<div class=\"product-title\">\\n<!-- Title goes here -->\\n<a href=\"/Leche-Fresca/Leche-Lala-deslactosada-light-6-pzas-1-l-c-u/00750102053780?storeId=0000009999\"><span itemprop=\"name\">Leche Lala deslactosada light 6 pzas 1 l c/u </span></a>\\n</div>\\n<div class=\"grid-view-promotional-row\">\\n</div>\\n<div class=\"price-strikethrough\">\\n<span>\\n</span>\\n</div>\\n<div class=\"price-wrap p-price price\" itemscope=\"\" itemtype=\"https://schema.org/Offer\">\\n<span>\\n<span content=\"USD\" itemprop=\"priceCurrency\">$</span>\\n<span content=\"99.5\" itemprop=\"price\">99.50</span>\\n</span>\\n</div>\\n</div>,\n",
       " <div class=\"product-detail-container\">\\n<div class=\"product-title\">\\n<!-- Title goes here -->\\n<a href=\"/Leche-Fresca/Leche-Sello-Rojo-deslactosada-1-l/00750120970474?storeId=0000009999\"><span itemprop=\"name\">Leche Sello Rojo deslactosada 1 l </span></a>\\n</div>\\n<div class=\"grid-view-promotional-row\">\\n</div>\\n<div class=\"price-strikethrough\">\\n<span>\\n</span>\\n</div>\\n<div class=\"price-wrap p-price price\" itemscope=\"\" itemtype=\"https://schema.org/Offer\">\\n<span>\\n<span content=\"USD\" itemprop=\"priceCurrency\">$</span>\\n<span content=\"17.0\" itemprop=\"price\">17.00</span>\\n</span>\\n</div>\\n</div>,\n",
       " <div class=\"product-detail-container\">\\n<div class=\"product-title\">\\n<!-- Title goes here -->\\n<a href=\"/Leche-Fresca/Leche-Lala-deslactosada-6-pzas-1-l-c-u/00750102053779?storeId=0000009999\"><span itemprop=\"name\">Leche Lala deslactosada 6 pzas 1 l c/u </span></a>\\n</div>\\n<div class=\"grid-view-promotional-row\">\\n</div>\\n<div class=\"price-strikethrough\">\\n<span>\\n</span>\\n</div>\\n<div class=\"price-wrap p-price price\" itemscope=\"\" itemtype=\"https://schema.org/Offer\">\\n<span>\\n<span content=\"USD\" itemprop=\"priceCurrency\">$</span>\\n<span content=\"103.0\" itemprop=\"price\">103.00</span>\\n</span>\\n</div>\\n</div>,\n",
       " <div class=\"product-detail-container\">\\n<div class=\"product-title\">\\n<!-- Title goes here -->\\n<a href=\"/Leche-Fresca/Leche-pasteurizada-Lala-sin-lactosa-semidescremada-1-l/00750102054855?storeId=0000009999\"><span itemprop=\"name\">Leche pasteurizada Lala sin lactosa semidescremada 1 l </span></a>\\n</div>\\n<div class=\"grid-view-promotional-row\">\\n</div>\\n<div class=\"price-strikethrough\">\\n<span>\\n</span>\\n</div>\\n<div class=\"price-wrap p-price price\" itemscope=\"\" itemtype=\"https://schema.org/Offer\">\\n<span>\\n<span content=\"USD\" itemprop=\"priceCurrency\">$</span>\\n<span content=\"19.9\" itemprop=\"price\">19.90</span>\\n</span>\\n</div>\\n</div>,\n",
       " <div class=\"product-detail-container\">\\n<div class=\"product-title\">\\n<!-- Title goes here -->\\n<a href=\"/Leche-Fresca/Leche-Lala-light-1-8-l/00750102054705?storeId=0000009999\"><span itemprop=\"name\">Leche Lala light 1.8 l </span></a>\\n</div>\\n<div class=\"grid-view-promotional-row\">\\n</div>\\n<div class=\"price-strikethrough\">\\n<span>\\n</span>\\n</div>\\n<div class=\"price-wrap p-price price\" itemscope=\"\" itemtype=\"https://schema.org/Offer\">\\n<span>\\n<span content=\"USD\" itemprop=\"priceCurrency\">$</span>\\n<span content=\"27.0\" itemprop=\"price\">27.00</span>\\n</span>\\n</div>\\n</div>,\n",
       " <div class=\"product-detail-container\">\\n<div class=\"product-title\">\\n<!-- Title goes here -->\\n<a href=\"/Leche-Fresca/Leche-Great-Value-parcialmente-descremada-con-vitamina-A-y-D-3-78-l/00750179165684?storeId=0000009999\"><span itemprop=\"name\">Leche Great Value parcialmente descremada  con vitamina A y D  3.78 l </span></a>\\n</div>\\n<div class=\"grid-view-promotional-row\">\\n</div>\\n<div class=\"price-strikethrough\">\\n<span>\\n</span>\\n</div>\\n<div class=\"price-wrap p-price price\" itemscope=\"\" itemtype=\"https://schema.org/Offer\">\\n<span>\\n<span content=\"USD\" itemprop=\"priceCurrency\">$</span>\\n<span content=\"48.0\" itemprop=\"price\">48.00</span>\\n</span>\\n</div>\\n</div>,\n",
       " <div class=\"product-detail-container\">\\n<div class=\"product-title\">\\n<!-- Title goes here -->\\n<a href=\"/Leche-Fresca/Leche-Santa-Clara-light-1-l/00750129560014?storeId=0000009999\"><span itemprop=\"name\">Leche Santa Clara light 1 l </span></a>\\n</div>\\n<div class=\"grid-view-promotional-row\">\\n</div>\\n<div class=\"price-strikethrough\">\\n<span>\\n</span>\\n</div>\\n<div class=\"price-wrap p-price price\" itemscope=\"\" itemtype=\"https://schema.org/Offer\">\\n<span>\\n<span content=\"USD\" itemprop=\"priceCurrency\">$</span>\\n<span content=\"17.5\" itemprop=\"price\">17.50</span>\\n</span>\\n</div>\\n</div>,\n",
       " <div class=\"product-detail-container\">\\n<div class=\"product-title\">\\n<!-- Title goes here -->\\n<a href=\"/Leche-Fresca/Leche-Carranco-light-1-l/00750131498003?storeId=0000009999\"><span itemprop=\"name\">Leche Carranco light 1 l </span></a>\\n</div>\\n<div class=\"grid-view-promotional-row\">\\n</div>\\n<div class=\"price-strikethrough\">\\n<span>\\n</span>\\n</div>\\n<div class=\"price-wrap p-price price\" itemscope=\"\" itemtype=\"https://schema.org/Offer\">\\n<span>\\n<span content=\"USD\" itemprop=\"priceCurrency\">$</span>\\n<span content=\"16.5\" itemprop=\"price\">16.50</span>\\n</span>\\n</div>\\n</div>,\n",
       " <div class=\"product-detail-container\">\\n<div class=\"product-title\">\\n<!-- Title goes here -->\\n<a href=\"/Leche-Fresca/Leche-Borden-light-1-l/00750102053961?storeId=0000009999\"><span itemprop=\"name\">Leche Borden light 1 l </span></a>\\n</div>\\n<div class=\"grid-view-promotional-row\">\\n</div>\\n<div class=\"price-strikethrough\">\\n<span>\\n</span>\\n</div>\\n<div class=\"price-wrap p-price price\" itemscope=\"\" itemtype=\"https://schema.org/Offer\">\\n<span>\\n<span content=\"USD\" itemprop=\"priceCurrency\">$</span>\\n<span content=\"16.0\" itemprop=\"price\">16.00</span>\\n</span>\\n</div>\\n</div>,\n",
       " <div class=\"product-detail-container\">\\n<div class=\"product-title\">\\n<!-- Title goes here -->\\n<a href=\"/Leche-Fresca/Producto-lacteo-Nutri-Leche-deslactosado-1-5-l/00750102054841?storeId=0000009999\"><span itemprop=\"name\">Producto l\\xe1cteo Nutri Leche deslactosado 1.5 l </span></a>\\n</div>\\n<div class=\"grid-view-promotional-row\">\\n</div>\\n<div class=\"price-strikethrough\">\\n<span>\\n</span>\\n</div>\\n<div class=\"price-wrap p-price price\" itemscope=\"\" itemtype=\"https://schema.org/Offer\">\\n<span>\\n<span content=\"USD\" itemprop=\"priceCurrency\">$</span>\\n<span content=\"19.0\" itemprop=\"price\">19.00</span>\\n</span>\\n</div>\\n</div>,\n",
       " <div class=\"product-detail-container\">\\n<div class=\"product-title\">\\n<!-- Title goes here -->\\n<a href=\"/Leche-Fresca/Leche-Alpura-deslactosada-1-l/00750105590142?storeId=0000009999\"><span itemprop=\"name\">Leche Alpura deslactosada 1 l </span></a>\\n</div>\\n<div class=\"grid-view-promotional-row\">\\n</div>\\n<div class=\"price-strikethrough\">\\n<span>\\n</span>\\n</div>\\n<div class=\"price-wrap p-price price\" itemscope=\"\" itemtype=\"https://schema.org/Offer\">\\n<span>\\n<span content=\"USD\" itemprop=\"priceCurrency\">$</span>\\n<span content=\"18.0\" itemprop=\"price\">18.00</span>\\n</span>\\n</div>\\n</div>,\n",
       " <div class=\"product-detail-container\">\\n<div class=\"product-title\">\\n<!-- Title goes here -->\\n<a href=\"/Leche-Fresca/Leche-Lala-light-deslactosada-1-l/00750102051587?storeId=0000009999\"><span itemprop=\"name\">Leche Lala light deslactosada 1 l </span></a>\\n</div>\\n<div class=\"grid-view-promotional-row\">\\n</div>\\n<div class=\"price-strikethrough\">\\n<span>\\n</span>\\n</div>\\n<div class=\"price-wrap p-price price\" itemscope=\"\" itemtype=\"https://schema.org/Offer\">\\n<span>\\n<span content=\"USD\" itemprop=\"priceCurrency\">$</span>\\n<span content=\"17.7\" itemprop=\"price\">17.70</span>\\n</span>\\n</div>\\n</div>,\n",
       " <div class=\"product-detail-container\">\\n<div class=\"product-title\">\\n<!-- Title goes here -->\\n<a href=\"/Leche-Fresca/Leche-Lala-semidescremada-deslactosada-1-5-l/00750102055067?storeId=0000009999\"><span itemprop=\"name\">Leche Lala semidescremada deslactosada 1.5 l </span></a>\\n</div>\\n<div class=\"grid-view-promotional-row\">\\n</div>\\n<div class=\"price-strikethrough\">\\n<span>\\n</span>\\n</div>\\n<div class=\"price-wrap p-price price\" itemscope=\"\" itemtype=\"https://schema.org/Offer\">\\n<span>\\n<span content=\"USD\" itemprop=\"priceCurrency\">$</span>\\n<span content=\"24.5\" itemprop=\"price\">24.50</span>\\n</span>\\n</div>\\n</div>,\n",
       " <div class=\"product-detail-container\">\\n<div class=\"product-title\">\\n<!-- Title goes here -->\\n<a href=\"/Leche-Fresca/Leche-Parmalat-semideslactosada-1-l/00070823698376?storeId=0000009999\"><span itemprop=\"name\">Leche Parmalat semideslactosada 1 l </span></a>\\n</div>\\n<div class=\"grid-view-promotional-row\">\\n</div>\\n<div class=\"price-strikethrough\">\\n<span>\\n</span>\\n</div>\\n<div class=\"price-wrap p-price price\" itemscope=\"\" itemtype=\"https://schema.org/Offer\">\\n<span>\\n<span content=\"USD\" itemprop=\"priceCurrency\">$</span>\\n<span content=\"15.0\" itemprop=\"price\">15.00</span>\\n</span>\\n</div>\\n</div>,\n",
       " <div class=\"product-detail-container\">\\n<div class=\"product-title\">\\n<!-- Title goes here -->\\n<a href=\"/Leche-Fresca/Leche-Lala-light-1-l/00750102051535?storeId=0000009999\"><span itemprop=\"name\">Leche Lala light 1 l </span></a>\\n</div>\\n<div class=\"grid-view-promotional-row\">\\n</div>\\n<div class=\"price-strikethrough\">\\n<span>\\n</span>\\n</div>\\n<div class=\"price-wrap p-price price\" itemscope=\"\" itemtype=\"https://schema.org/Offer\">\\n<span>\\n<span content=\"USD\" itemprop=\"priceCurrency\">$</span>\\n<span content=\"16.9\" itemprop=\"price\">16.90</span>\\n</span>\\n</div>\\n</div>,\n",
       " <div class=\"product-detail-container\">\\n<div class=\"product-title\">\\n<!-- Title goes here -->\\n<a href=\"/Leche-Fresca/Leche-Leche-y-Pan-light-1-l/00750120970107?storeId=0000009999\"><span itemprop=\"name\">Leche Leche y Pan light 1 l </span></a>\\n</div>\\n<div class=\"grid-view-promotional-row\">\\n</div>\\n<div class=\"price-strikethrough\">\\n<span>\\n</span>\\n</div>\\n<div class=\"price-wrap p-price price\" itemscope=\"\" itemtype=\"https://schema.org/Offer\">\\n<span>\\n<span content=\"USD\" itemprop=\"priceCurrency\">$</span>\\n<span content=\"14.7\" itemprop=\"price\">14.70</span>\\n</span>\\n</div>\\n</div>,\n",
       " <div class=\"product-detail-container\">\\n<div class=\"product-title\">\\n<!-- Title goes here -->\\n<a href=\"/Leche-Fresca/Leche-Lala-light-6-pzas-1-l-c-u/00750102053778?storeId=0000009999\"><span itemprop=\"name\">Leche Lala light 6 pzas 1 l c/u </span></a>\\n</div>\\n<div class=\"grid-view-promotional-row\">\\n</div>\\n<div class=\"price-strikethrough\">\\n<span>\\n</span>\\n</div>\\n<div class=\"price-wrap p-price price\" itemscope=\"\" itemtype=\"https://schema.org/Offer\">\\n<span>\\n<span content=\"USD\" itemprop=\"priceCurrency\">$</span>\\n<span content=\"96.0\" itemprop=\"price\">96.00</span>\\n</span>\\n</div>\\n</div>,\n",
       " <div class=\"product-detail-container\">\\n<div class=\"product-title\">\\n<!-- Title goes here -->\\n<a href=\"/Leche-Fresca/Leche-Sello-Rojo-light-deslactosada-1-l/00750120970475?storeId=0000009999\"><span itemprop=\"name\">Leche Sello Rojo light deslactosada 1 l </span></a>\\n</div>\\n<div class=\"grid-view-promotional-row\">\\n</div>\\n<div class=\"price-strikethrough\">\\n<span>\\n</span>\\n</div>\\n<div class=\"price-wrap p-price price\" itemscope=\"\" itemtype=\"https://schema.org/Offer\">\\n<span>\\n<span content=\"USD\" itemprop=\"priceCurrency\">$</span>\\n<span content=\"17.0\" itemprop=\"price\">17.00</span>\\n</span>\\n</div>\\n</div>,\n",
       " <div class=\"product-detail-container\">\\n<div class=\"product-title\">\\n<!-- Title goes here -->\\n<a href=\"/Leche-Fresca/Leche-Lala-siluette-plus-deslactosada-sin-grasa-960-ml/00750102054831?storeId=0000009999\"><span itemprop=\"name\">Leche Lala siluette plus deslactosada sin grasa 960 ml </span></a>\\n</div>\\n<div class=\"grid-view-promotional-row\">\\n</div>\\n<div class=\"price-strikethrough\">\\n<span>\\n</span>\\n</div>\\n<div class=\"price-wrap p-price price\" itemscope=\"\" itemtype=\"https://schema.org/Offer\">\\n<span>\\n<span content=\"USD\" itemprop=\"priceCurrency\">$</span>\\n<span content=\"17.9\" itemprop=\"price\">17.90</span>\\n</span>\\n</div>\\n</div>,\n",
       " <div class=\"product-detail-container\">\\n<div class=\"product-title\">\\n<!-- Title goes here -->\\n<a href=\"/Leche-Fresca/Leche-Lala-deslactosada-1-l/00750102051539?storeId=0000009999\"><span itemprop=\"name\">Leche Lala deslactosada 1 l </span></a>\\n</div>\\n<div class=\"grid-view-promotional-row\">\\n</div>\\n<div class=\"price-strikethrough\">\\n<span>\\n</span>\\n</div>\\n<div class=\"price-wrap p-price price\" itemscope=\"\" itemtype=\"https://schema.org/Offer\">\\n<span>\\n<span content=\"USD\" itemprop=\"priceCurrency\">$</span>\\n<span content=\"17.9\" itemprop=\"price\">17.90</span>\\n</span>\\n</div>\\n</div>,\n",
       " <div class=\"product-detail-container\">\\n<div class=\"product-title\">\\n<!-- Title goes here -->\\n<a href=\"/Leche-Fresca/Leche-Lala-extra-calcio-deslactosada-960-ml/00750102054862?storeId=0000009999\"><span itemprop=\"name\">Leche Lala extra calcio deslactosada 960 ml </span></a>\\n</div>\\n<div class=\"grid-view-promotional-row\">\\n</div>\\n<div class=\"price-strikethrough\">\\n<span>\\n</span>\\n</div>\\n<div class=\"price-wrap p-price price\" itemscope=\"\" itemtype=\"https://schema.org/Offer\">\\n<span>\\n<span content=\"USD\" itemprop=\"priceCurrency\">$</span>\\n<span content=\"17.9\" itemprop=\"price\">17.90</span>\\n</span>\\n</div>\\n</div>,\n",
       " <div class=\"product-detail-container\">\\n<div class=\"product-title\">\\n<!-- Title goes here -->\\n<a href=\"/Leche-Fresca/Leche-Alpura-2000-light-1-l/00750105590080?storeId=0000009999\"><span itemprop=\"name\">Leche Alpura 2000 light 1 l </span></a>\\n</div>\\n<div class=\"grid-view-promotional-row\">\\n</div>\\n<div class=\"price-strikethrough\">\\n<span>\\n</span>\\n</div>\\n<div class=\"price-wrap p-price price\" itemscope=\"\" itemtype=\"https://schema.org/Offer\">\\n<span>\\n<span content=\"USD\" itemprop=\"priceCurrency\">$</span>\\n<span content=\"16.8\" itemprop=\"price\">16.80</span>\\n</span>\\n</div>\\n</div>,\n",
       " <div class=\"product-detail-container\">\\n<div class=\"product-title\">\\n<!-- Title goes here -->\\n<a href=\"/Leche-Fresca/Producto-lacteo-combinado-Nestle-Total-Digest-UHT-1-l/00750105923813?storeId=0000009999\"><span itemprop=\"name\">Producto l\\xe1cteo combinado Nestl\\xe9 Total Digest UHT 1 l </span></a>\\n</div>\\n<div class=\"grid-view-promotional-row\">\\n</div>\\n<div class=\"price-strikethrough\">\\n<span>\\n</span>\\n</div>\\n<div class=\"price-wrap p-price price\" itemscope=\"\" itemtype=\"https://schema.org/Offer\">\\n<span>\\n<span content=\"USD\" itemprop=\"priceCurrency\">$</span>\\n<span content=\"18.5\" itemprop=\"price\">18.50</span>\\n</span>\\n</div>\\n</div>,\n",
       " <div class=\"product-detail-container\">\\n<div class=\"product-title\">\\n<!-- Title goes here -->\\n<a href=\"/Leche-Fresca/Leche-Lala-deslactosada-fibra-960-ml/00750102054864?storeId=0000009999\"><span itemprop=\"name\">Leche Lala deslactosada fibra 960 ml </span></a>\\n</div>\\n<div class=\"grid-view-promotional-row\">\\n</div>\\n<div class=\"price-strikethrough\">\\n<span>\\n</span>\\n</div>\\n<div class=\"price-wrap p-price price\" itemscope=\"\" itemtype=\"https://schema.org/Offer\">\\n<span>\\n<span content=\"USD\" itemprop=\"priceCurrency\">$</span>\\n<span content=\"17.9\" itemprop=\"price\">17.90</span>\\n</span>\\n</div>\\n</div>,\n",
       " <div class=\"product-detail-container\">\\n<div class=\"product-title\">\\n<!-- Title goes here -->\\n<a href=\"/Leche-Fresca/Leche-Great-Value-parcialmente-descremada-con-vitamina-A-y-D-1-89-l/00750179165685?storeId=0000009999\"><span itemprop=\"name\">Leche Great Value parcialmente descremada con vitamina A y D 1.89 l </span></a>\\n</div>\\n<div class=\"grid-view-promotional-row\">\\n</div>\\n<div class=\"price-strikethrough\">\\n<span>\\n</span>\\n</div>\\n<div class=\"price-wrap p-price price\" itemscope=\"\" itemtype=\"https://schema.org/Offer\">\\n<span>\\n<span content=\"USD\" itemprop=\"priceCurrency\">$</span>\\n<span content=\"30.0\" itemprop=\"price\">30.00</span>\\n</span>\\n</div>\\n</div>]"
      ]
     },
     "execution_count": 153,
     "metadata": {},
     "output_type": "execute_result"
    }
   ],
   "source": [
    "# echamos un vistazo a un elemento\n",
    "elementos = BS2.find(class_=\"listing-wrapper grid-view\").find_all(class_=\"product-detail-container\")\n"
   ]
  },
  {
   "cell_type": "code",
   "execution_count": 158,
   "metadata": {
    "collapsed": false
   },
   "outputs": [
    {
     "name": "stdout",
     "output_type": "stream",
     "text": [
      "/Leche-Fresca/Leche-Alpura-deslactosada-light-250-ml/00750105590556?storeId=0000009999\n",
      "Leche Alpura deslactosada light 250 ml \n"
     ]
    },
    {
     "data": {
      "text/plain": [
       "u'6.50'"
      ]
     },
     "execution_count": 158,
     "metadata": {},
     "output_type": "execute_result"
    }
   ],
   "source": [
    "# así obtenemos el link, el nombre del producto y el precio\n",
    "#link\n",
    "elementos[0].find('a')['href']\n",
    "# producto\n",
    "elementos[0].find('a').text\n",
    "# precio\n",
    "elementos[0].find(itemprop='price').text"
   ]
  },
  {
   "cell_type": "code",
   "execution_count": null,
   "metadata": {
    "collapsed": false
   },
   "outputs": [],
   "source": []
  },
  {
   "cell_type": "code",
   "execution_count": 155,
   "metadata": {
    "collapsed": false
   },
   "outputs": [],
   "source": [
    "# contruimos el diccionario para la base\n",
    "walmart = [{'link':elem.find('a')['href'],'producto': elem.find('a').text, 'precio':elem.find(itemprop='price').text}\n",
    "           for elem in elementos]"
   ]
  },
  {
   "cell_type": "code",
   "execution_count": null,
   "metadata": {
    "collapsed": false
   },
   "outputs": [],
   "source": []
  },
  {
   "cell_type": "code",
   "execution_count": 157,
   "metadata": {
    "collapsed": false
   },
   "outputs": [
    {
     "data": {
      "text/html": [
       "<div>\n",
       "<table border=\"1\" class=\"dataframe\">\n",
       "  <thead>\n",
       "    <tr style=\"text-align: right;\">\n",
       "      <th></th>\n",
       "      <th>link</th>\n",
       "      <th>precio</th>\n",
       "      <th>producto</th>\n",
       "    </tr>\n",
       "  </thead>\n",
       "  <tbody>\n",
       "    <tr>\n",
       "      <th>0</th>\n",
       "      <td>/Leche-Fresca/Leche-Alpura-deslactosada-light-...</td>\n",
       "      <td>6.50</td>\n",
       "      <td>Leche Alpura deslactosada light 250 ml</td>\n",
       "    </tr>\n",
       "    <tr>\n",
       "      <th>1</th>\n",
       "      <td>/Leche-Fresca/Leche-Parmalat-light-deslactosad...</td>\n",
       "      <td>16.20</td>\n",
       "      <td>Leche Parmalat light deslactosada 1 l</td>\n",
       "    </tr>\n",
       "    <tr>\n",
       "      <th>2</th>\n",
       "      <td>/Leche-Fresca/Leche-Alpura-deslactosada-250-ml...</td>\n",
       "      <td>6.50</td>\n",
       "      <td>Leche Alpura deslactosada 250 ml</td>\n",
       "    </tr>\n",
       "    <tr>\n",
       "      <th>3</th>\n",
       "      <td>/Leche-Fresca/Producto-lacteo-Nutri-Leche-desl...</td>\n",
       "      <td>13.90</td>\n",
       "      <td>Producto lácteo Nutri Leche deslactosado 1 l</td>\n",
       "    </tr>\n",
       "    <tr>\n",
       "      <th>4</th>\n",
       "      <td>/Leche-Fresca/Leche-Sello-Rojo-light-1-l/00750...</td>\n",
       "      <td>16.00</td>\n",
       "      <td>Leche Sello Rojo light 1 l</td>\n",
       "    </tr>\n",
       "    <tr>\n",
       "      <th>5</th>\n",
       "      <td>/Leche-Fresca/Mezcla-de-leche-Forti-Leche-con-...</td>\n",
       "      <td>14.70</td>\n",
       "      <td>Mezcla de leche Forti Leche con grasa vegetal ...</td>\n",
       "    </tr>\n",
       "    <tr>\n",
       "      <th>6</th>\n",
       "      <td>/Leche-Fresca/Leche-Santa-Clara-light-deslacto...</td>\n",
       "      <td>19.00</td>\n",
       "      <td>Leche Santa Clara light  deslactosada 1 l</td>\n",
       "    </tr>\n",
       "    <tr>\n",
       "      <th>7</th>\n",
       "      <td>/Leche-Fresca/Leche-Lala-deslactosada-light-6-...</td>\n",
       "      <td>99.50</td>\n",
       "      <td>Leche Lala deslactosada light 6 pzas 1 l c/u</td>\n",
       "    </tr>\n",
       "    <tr>\n",
       "      <th>8</th>\n",
       "      <td>/Leche-Fresca/Leche-Sello-Rojo-deslactosada-1-...</td>\n",
       "      <td>17.00</td>\n",
       "      <td>Leche Sello Rojo deslactosada 1 l</td>\n",
       "    </tr>\n",
       "    <tr>\n",
       "      <th>9</th>\n",
       "      <td>/Leche-Fresca/Leche-Lala-deslactosada-6-pzas-1...</td>\n",
       "      <td>103.00</td>\n",
       "      <td>Leche Lala deslactosada 6 pzas 1 l c/u</td>\n",
       "    </tr>\n",
       "    <tr>\n",
       "      <th>10</th>\n",
       "      <td>/Leche-Fresca/Leche-pasteurizada-Lala-sin-lact...</td>\n",
       "      <td>19.90</td>\n",
       "      <td>Leche pasteurizada Lala sin lactosa semidescre...</td>\n",
       "    </tr>\n",
       "    <tr>\n",
       "      <th>11</th>\n",
       "      <td>/Leche-Fresca/Leche-Lala-light-1-8-l/007501020...</td>\n",
       "      <td>27.00</td>\n",
       "      <td>Leche Lala light 1.8 l</td>\n",
       "    </tr>\n",
       "    <tr>\n",
       "      <th>12</th>\n",
       "      <td>/Leche-Fresca/Leche-Great-Value-parcialmente-d...</td>\n",
       "      <td>48.00</td>\n",
       "      <td>Leche Great Value parcialmente descremada  con...</td>\n",
       "    </tr>\n",
       "    <tr>\n",
       "      <th>13</th>\n",
       "      <td>/Leche-Fresca/Leche-Santa-Clara-light-1-l/0075...</td>\n",
       "      <td>17.50</td>\n",
       "      <td>Leche Santa Clara light 1 l</td>\n",
       "    </tr>\n",
       "    <tr>\n",
       "      <th>14</th>\n",
       "      <td>/Leche-Fresca/Leche-Carranco-light-1-l/0075013...</td>\n",
       "      <td>16.50</td>\n",
       "      <td>Leche Carranco light 1 l</td>\n",
       "    </tr>\n",
       "    <tr>\n",
       "      <th>15</th>\n",
       "      <td>/Leche-Fresca/Leche-Borden-light-1-l/007501020...</td>\n",
       "      <td>16.00</td>\n",
       "      <td>Leche Borden light 1 l</td>\n",
       "    </tr>\n",
       "    <tr>\n",
       "      <th>16</th>\n",
       "      <td>/Leche-Fresca/Producto-lacteo-Nutri-Leche-desl...</td>\n",
       "      <td>19.00</td>\n",
       "      <td>Producto lácteo Nutri Leche deslactosado 1.5 l</td>\n",
       "    </tr>\n",
       "    <tr>\n",
       "      <th>17</th>\n",
       "      <td>/Leche-Fresca/Leche-Alpura-deslactosada-1-l/00...</td>\n",
       "      <td>18.00</td>\n",
       "      <td>Leche Alpura deslactosada 1 l</td>\n",
       "    </tr>\n",
       "    <tr>\n",
       "      <th>18</th>\n",
       "      <td>/Leche-Fresca/Leche-Lala-light-deslactosada-1-...</td>\n",
       "      <td>17.70</td>\n",
       "      <td>Leche Lala light deslactosada 1 l</td>\n",
       "    </tr>\n",
       "    <tr>\n",
       "      <th>19</th>\n",
       "      <td>/Leche-Fresca/Leche-Lala-semidescremada-deslac...</td>\n",
       "      <td>24.50</td>\n",
       "      <td>Leche Lala semidescremada deslactosada 1.5 l</td>\n",
       "    </tr>\n",
       "    <tr>\n",
       "      <th>20</th>\n",
       "      <td>/Leche-Fresca/Leche-Parmalat-semideslactosada-...</td>\n",
       "      <td>15.00</td>\n",
       "      <td>Leche Parmalat semideslactosada 1 l</td>\n",
       "    </tr>\n",
       "    <tr>\n",
       "      <th>21</th>\n",
       "      <td>/Leche-Fresca/Leche-Lala-light-1-l/00750102051...</td>\n",
       "      <td>16.90</td>\n",
       "      <td>Leche Lala light 1 l</td>\n",
       "    </tr>\n",
       "    <tr>\n",
       "      <th>22</th>\n",
       "      <td>/Leche-Fresca/Leche-Leche-y-Pan-light-1-l/0075...</td>\n",
       "      <td>14.70</td>\n",
       "      <td>Leche Leche y Pan light 1 l</td>\n",
       "    </tr>\n",
       "    <tr>\n",
       "      <th>23</th>\n",
       "      <td>/Leche-Fresca/Leche-Lala-light-6-pzas-1-l-c-u/...</td>\n",
       "      <td>96.00</td>\n",
       "      <td>Leche Lala light 6 pzas 1 l c/u</td>\n",
       "    </tr>\n",
       "    <tr>\n",
       "      <th>24</th>\n",
       "      <td>/Leche-Fresca/Leche-Sello-Rojo-light-deslactos...</td>\n",
       "      <td>17.00</td>\n",
       "      <td>Leche Sello Rojo light deslactosada 1 l</td>\n",
       "    </tr>\n",
       "    <tr>\n",
       "      <th>25</th>\n",
       "      <td>/Leche-Fresca/Leche-Lala-siluette-plus-deslact...</td>\n",
       "      <td>17.90</td>\n",
       "      <td>Leche Lala siluette plus deslactosada sin gras...</td>\n",
       "    </tr>\n",
       "    <tr>\n",
       "      <th>26</th>\n",
       "      <td>/Leche-Fresca/Leche-Lala-deslactosada-1-l/0075...</td>\n",
       "      <td>17.90</td>\n",
       "      <td>Leche Lala deslactosada 1 l</td>\n",
       "    </tr>\n",
       "    <tr>\n",
       "      <th>27</th>\n",
       "      <td>/Leche-Fresca/Leche-Lala-extra-calcio-deslacto...</td>\n",
       "      <td>17.90</td>\n",
       "      <td>Leche Lala extra calcio deslactosada 960 ml</td>\n",
       "    </tr>\n",
       "    <tr>\n",
       "      <th>28</th>\n",
       "      <td>/Leche-Fresca/Leche-Alpura-2000-light-1-l/0075...</td>\n",
       "      <td>16.80</td>\n",
       "      <td>Leche Alpura 2000 light 1 l</td>\n",
       "    </tr>\n",
       "    <tr>\n",
       "      <th>29</th>\n",
       "      <td>/Leche-Fresca/Producto-lacteo-combinado-Nestle...</td>\n",
       "      <td>18.50</td>\n",
       "      <td>Producto lácteo combinado Nestlé Total Digest ...</td>\n",
       "    </tr>\n",
       "    <tr>\n",
       "      <th>30</th>\n",
       "      <td>/Leche-Fresca/Leche-Lala-deslactosada-fibra-96...</td>\n",
       "      <td>17.90</td>\n",
       "      <td>Leche Lala deslactosada fibra 960 ml</td>\n",
       "    </tr>\n",
       "    <tr>\n",
       "      <th>31</th>\n",
       "      <td>/Leche-Fresca/Leche-Great-Value-parcialmente-d...</td>\n",
       "      <td>30.00</td>\n",
       "      <td>Leche Great Value parcialmente descremada con ...</td>\n",
       "    </tr>\n",
       "  </tbody>\n",
       "</table>\n",
       "</div>"
      ],
      "text/plain": [
       "                                                 link  precio  \\\n",
       "0   /Leche-Fresca/Leche-Alpura-deslactosada-light-...    6.50   \n",
       "1   /Leche-Fresca/Leche-Parmalat-light-deslactosad...   16.20   \n",
       "2   /Leche-Fresca/Leche-Alpura-deslactosada-250-ml...    6.50   \n",
       "3   /Leche-Fresca/Producto-lacteo-Nutri-Leche-desl...   13.90   \n",
       "4   /Leche-Fresca/Leche-Sello-Rojo-light-1-l/00750...   16.00   \n",
       "5   /Leche-Fresca/Mezcla-de-leche-Forti-Leche-con-...   14.70   \n",
       "6   /Leche-Fresca/Leche-Santa-Clara-light-deslacto...   19.00   \n",
       "7   /Leche-Fresca/Leche-Lala-deslactosada-light-6-...   99.50   \n",
       "8   /Leche-Fresca/Leche-Sello-Rojo-deslactosada-1-...   17.00   \n",
       "9   /Leche-Fresca/Leche-Lala-deslactosada-6-pzas-1...  103.00   \n",
       "10  /Leche-Fresca/Leche-pasteurizada-Lala-sin-lact...   19.90   \n",
       "11  /Leche-Fresca/Leche-Lala-light-1-8-l/007501020...   27.00   \n",
       "12  /Leche-Fresca/Leche-Great-Value-parcialmente-d...   48.00   \n",
       "13  /Leche-Fresca/Leche-Santa-Clara-light-1-l/0075...   17.50   \n",
       "14  /Leche-Fresca/Leche-Carranco-light-1-l/0075013...   16.50   \n",
       "15  /Leche-Fresca/Leche-Borden-light-1-l/007501020...   16.00   \n",
       "16  /Leche-Fresca/Producto-lacteo-Nutri-Leche-desl...   19.00   \n",
       "17  /Leche-Fresca/Leche-Alpura-deslactosada-1-l/00...   18.00   \n",
       "18  /Leche-Fresca/Leche-Lala-light-deslactosada-1-...   17.70   \n",
       "19  /Leche-Fresca/Leche-Lala-semidescremada-deslac...   24.50   \n",
       "20  /Leche-Fresca/Leche-Parmalat-semideslactosada-...   15.00   \n",
       "21  /Leche-Fresca/Leche-Lala-light-1-l/00750102051...   16.90   \n",
       "22  /Leche-Fresca/Leche-Leche-y-Pan-light-1-l/0075...   14.70   \n",
       "23  /Leche-Fresca/Leche-Lala-light-6-pzas-1-l-c-u/...   96.00   \n",
       "24  /Leche-Fresca/Leche-Sello-Rojo-light-deslactos...   17.00   \n",
       "25  /Leche-Fresca/Leche-Lala-siluette-plus-deslact...   17.90   \n",
       "26  /Leche-Fresca/Leche-Lala-deslactosada-1-l/0075...   17.90   \n",
       "27  /Leche-Fresca/Leche-Lala-extra-calcio-deslacto...   17.90   \n",
       "28  /Leche-Fresca/Leche-Alpura-2000-light-1-l/0075...   16.80   \n",
       "29  /Leche-Fresca/Producto-lacteo-combinado-Nestle...   18.50   \n",
       "30  /Leche-Fresca/Leche-Lala-deslactosada-fibra-96...   17.90   \n",
       "31  /Leche-Fresca/Leche-Great-Value-parcialmente-d...   30.00   \n",
       "\n",
       "                                             producto  \n",
       "0             Leche Alpura deslactosada light 250 ml   \n",
       "1              Leche Parmalat light deslactosada 1 l   \n",
       "2                   Leche Alpura deslactosada 250 ml   \n",
       "3       Producto lácteo Nutri Leche deslactosado 1 l   \n",
       "4                         Leche Sello Rojo light 1 l   \n",
       "5   Mezcla de leche Forti Leche con grasa vegetal ...  \n",
       "6          Leche Santa Clara light  deslactosada 1 l   \n",
       "7       Leche Lala deslactosada light 6 pzas 1 l c/u   \n",
       "8                  Leche Sello Rojo deslactosada 1 l   \n",
       "9             Leche Lala deslactosada 6 pzas 1 l c/u   \n",
       "10  Leche pasteurizada Lala sin lactosa semidescre...  \n",
       "11                            Leche Lala light 1.8 l   \n",
       "12  Leche Great Value parcialmente descremada  con...  \n",
       "13                       Leche Santa Clara light 1 l   \n",
       "14                          Leche Carranco light 1 l   \n",
       "15                            Leche Borden light 1 l   \n",
       "16    Producto lácteo Nutri Leche deslactosado 1.5 l   \n",
       "17                     Leche Alpura deslactosada 1 l   \n",
       "18                 Leche Lala light deslactosada 1 l   \n",
       "19      Leche Lala semidescremada deslactosada 1.5 l   \n",
       "20               Leche Parmalat semideslactosada 1 l   \n",
       "21                              Leche Lala light 1 l   \n",
       "22                       Leche Leche y Pan light 1 l   \n",
       "23                   Leche Lala light 6 pzas 1 l c/u   \n",
       "24           Leche Sello Rojo light deslactosada 1 l   \n",
       "25  Leche Lala siluette plus deslactosada sin gras...  \n",
       "26                       Leche Lala deslactosada 1 l   \n",
       "27       Leche Lala extra calcio deslactosada 960 ml   \n",
       "28                       Leche Alpura 2000 light 1 l   \n",
       "29  Producto lácteo combinado Nestlé Total Digest ...  \n",
       "30              Leche Lala deslactosada fibra 960 ml   \n",
       "31  Leche Great Value parcialmente descremada con ...  "
      ]
     },
     "execution_count": 157,
     "metadata": {},
     "output_type": "execute_result"
    }
   ],
   "source": [
    "lacteos = pd.DataFrame.from_records(walmart)\n",
    "lacteos"
   ]
  },
  {
   "cell_type": "markdown",
   "metadata": {},
   "source": [
    "### Selenium"
   ]
  },
  {
   "cell_type": "code",
   "execution_count": 159,
   "metadata": {
    "collapsed": true
   },
   "outputs": [],
   "source": [
    "from selenium import webdriver # Carga el módulo del web driver\n",
    "# Abrimos una sesión en google chrome\n",
    "driver = webdriver.Chrome(\"chromedriver.exe\")\n",
    "driver.get('https://super.walmart.com.mx/')"
   ]
  },
  {
   "cell_type": "code",
   "execution_count": 162,
   "metadata": {
    "collapsed": false
   },
   "outputs": [
    {
     "ename": "NoSuchWindowException",
     "evalue": "Message: no such window: target window already closed\nfrom unknown error: web view not found\n  (Session info: chrome=56.0.2924.87)\n  (Driver info: chromedriver=2.25.426923 (0390b88869384d6eb0d5d09729679f934aab9eed),platform=Windows NT 10.0.14393 x86_64)\n",
     "output_type": "error",
     "traceback": [
      "\u001b[1;31m---------------------------------------------------------------------------\u001b[0m",
      "\u001b[1;31mNoSuchWindowException\u001b[0m                     Traceback (most recent call last)",
      "\u001b[1;32m<ipython-input-162-e24a58f2845b>\u001b[0m in \u001b[0;36m<module>\u001b[1;34m()\u001b[0m\n\u001b[1;32m----> 1\u001b[1;33m \u001b[0mbusq\u001b[0m \u001b[1;33m=\u001b[0m \u001b[0mdriver\u001b[0m\u001b[1;33m.\u001b[0m\u001b[0mfind_element_by_name\u001b[0m\u001b[1;33m(\u001b[0m\u001b[1;34m'Ntt'\u001b[0m\u001b[1;33m)\u001b[0m\u001b[1;33m\u001b[0m\u001b[0m\n\u001b[0m\u001b[0;32m      2\u001b[0m \u001b[0mbusq\u001b[0m\u001b[1;33m.\u001b[0m\u001b[0msend_keys\u001b[0m\u001b[1;33m(\u001b[0m\u001b[1;34m'leche'\u001b[0m\u001b[1;33m)\u001b[0m\u001b[1;33m\u001b[0m\u001b[0m\n\u001b[0;32m      3\u001b[0m \u001b[0mdriver\u001b[0m\u001b[1;33m.\u001b[0m\u001b[0mfind_element_by_name\u001b[0m\u001b[1;33m(\u001b[0m\u001b[1;34m'submit'\u001b[0m\u001b[1;33m)\u001b[0m\u001b[1;33m.\u001b[0m\u001b[0mclick\u001b[0m\u001b[1;33m(\u001b[0m\u001b[1;33m)\u001b[0m\u001b[1;33m\u001b[0m\u001b[0m\n",
      "\u001b[1;32mC:\\Anaconda2\\lib\\site-packages\\selenium\\webdriver\\remote\\webdriver.pyc\u001b[0m in \u001b[0;36mfind_element_by_name\u001b[1;34m(self, name)\u001b[0m\n\u001b[0;32m    363\u001b[0m             \u001b[0mdriver\u001b[0m\u001b[1;33m.\u001b[0m\u001b[0mfind_element_by_name\u001b[0m\u001b[1;33m(\u001b[0m\u001b[1;34m'foo'\u001b[0m\u001b[1;33m)\u001b[0m\u001b[1;33m\u001b[0m\u001b[0m\n\u001b[0;32m    364\u001b[0m         \"\"\"\n\u001b[1;32m--> 365\u001b[1;33m         \u001b[1;32mreturn\u001b[0m \u001b[0mself\u001b[0m\u001b[1;33m.\u001b[0m\u001b[0mfind_element\u001b[0m\u001b[1;33m(\u001b[0m\u001b[0mby\u001b[0m\u001b[1;33m=\u001b[0m\u001b[0mBy\u001b[0m\u001b[1;33m.\u001b[0m\u001b[0mNAME\u001b[0m\u001b[1;33m,\u001b[0m \u001b[0mvalue\u001b[0m\u001b[1;33m=\u001b[0m\u001b[0mname\u001b[0m\u001b[1;33m)\u001b[0m\u001b[1;33m\u001b[0m\u001b[0m\n\u001b[0m\u001b[0;32m    366\u001b[0m \u001b[1;33m\u001b[0m\u001b[0m\n\u001b[0;32m    367\u001b[0m     \u001b[1;32mdef\u001b[0m \u001b[0mfind_elements_by_name\u001b[0m\u001b[1;33m(\u001b[0m\u001b[0mself\u001b[0m\u001b[1;33m,\u001b[0m \u001b[0mname\u001b[0m\u001b[1;33m)\u001b[0m\u001b[1;33m:\u001b[0m\u001b[1;33m\u001b[0m\u001b[0m\n",
      "\u001b[1;32mC:\\Anaconda2\\lib\\site-packages\\selenium\\webdriver\\remote\\webdriver.pyc\u001b[0m in \u001b[0;36mfind_element\u001b[1;34m(self, by, value)\u001b[0m\n\u001b[0;32m    750\u001b[0m         return self.execute(Command.FIND_ELEMENT, {\n\u001b[0;32m    751\u001b[0m             \u001b[1;34m'using'\u001b[0m\u001b[1;33m:\u001b[0m \u001b[0mby\u001b[0m\u001b[1;33m,\u001b[0m\u001b[1;33m\u001b[0m\u001b[0m\n\u001b[1;32m--> 752\u001b[1;33m             'value': value})['value']\n\u001b[0m\u001b[0;32m    753\u001b[0m \u001b[1;33m\u001b[0m\u001b[0m\n\u001b[0;32m    754\u001b[0m     \u001b[1;32mdef\u001b[0m \u001b[0mfind_elements\u001b[0m\u001b[1;33m(\u001b[0m\u001b[0mself\u001b[0m\u001b[1;33m,\u001b[0m \u001b[0mby\u001b[0m\u001b[1;33m=\u001b[0m\u001b[0mBy\u001b[0m\u001b[1;33m.\u001b[0m\u001b[0mID\u001b[0m\u001b[1;33m,\u001b[0m \u001b[0mvalue\u001b[0m\u001b[1;33m=\u001b[0m\u001b[0mNone\u001b[0m\u001b[1;33m)\u001b[0m\u001b[1;33m:\u001b[0m\u001b[1;33m\u001b[0m\u001b[0m\n",
      "\u001b[1;32mC:\\Anaconda2\\lib\\site-packages\\selenium\\webdriver\\remote\\webdriver.pyc\u001b[0m in \u001b[0;36mexecute\u001b[1;34m(self, driver_command, params)\u001b[0m\n\u001b[0;32m    234\u001b[0m         \u001b[0mresponse\u001b[0m \u001b[1;33m=\u001b[0m \u001b[0mself\u001b[0m\u001b[1;33m.\u001b[0m\u001b[0mcommand_executor\u001b[0m\u001b[1;33m.\u001b[0m\u001b[0mexecute\u001b[0m\u001b[1;33m(\u001b[0m\u001b[0mdriver_command\u001b[0m\u001b[1;33m,\u001b[0m \u001b[0mparams\u001b[0m\u001b[1;33m)\u001b[0m\u001b[1;33m\u001b[0m\u001b[0m\n\u001b[0;32m    235\u001b[0m         \u001b[1;32mif\u001b[0m \u001b[0mresponse\u001b[0m\u001b[1;33m:\u001b[0m\u001b[1;33m\u001b[0m\u001b[0m\n\u001b[1;32m--> 236\u001b[1;33m             \u001b[0mself\u001b[0m\u001b[1;33m.\u001b[0m\u001b[0merror_handler\u001b[0m\u001b[1;33m.\u001b[0m\u001b[0mcheck_response\u001b[0m\u001b[1;33m(\u001b[0m\u001b[0mresponse\u001b[0m\u001b[1;33m)\u001b[0m\u001b[1;33m\u001b[0m\u001b[0m\n\u001b[0m\u001b[0;32m    237\u001b[0m             response['value'] = self._unwrap_value(\n\u001b[0;32m    238\u001b[0m                 response.get('value', None))\n",
      "\u001b[1;32mC:\\Anaconda2\\lib\\site-packages\\selenium\\webdriver\\remote\\errorhandler.pyc\u001b[0m in \u001b[0;36mcheck_response\u001b[1;34m(self, response)\u001b[0m\n\u001b[0;32m    190\u001b[0m         \u001b[1;32melif\u001b[0m \u001b[0mexception_class\u001b[0m \u001b[1;33m==\u001b[0m \u001b[0mUnexpectedAlertPresentException\u001b[0m \u001b[1;32mand\u001b[0m \u001b[1;34m'alert'\u001b[0m \u001b[1;32min\u001b[0m \u001b[0mvalue\u001b[0m\u001b[1;33m:\u001b[0m\u001b[1;33m\u001b[0m\u001b[0m\n\u001b[0;32m    191\u001b[0m             \u001b[1;32mraise\u001b[0m \u001b[0mexception_class\u001b[0m\u001b[1;33m(\u001b[0m\u001b[0mmessage\u001b[0m\u001b[1;33m,\u001b[0m \u001b[0mscreen\u001b[0m\u001b[1;33m,\u001b[0m \u001b[0mstacktrace\u001b[0m\u001b[1;33m,\u001b[0m \u001b[0mvalue\u001b[0m\u001b[1;33m[\u001b[0m\u001b[1;34m'alert'\u001b[0m\u001b[1;33m]\u001b[0m\u001b[1;33m.\u001b[0m\u001b[0mget\u001b[0m\u001b[1;33m(\u001b[0m\u001b[1;34m'text'\u001b[0m\u001b[1;33m)\u001b[0m\u001b[1;33m)\u001b[0m\u001b[1;33m\u001b[0m\u001b[0m\n\u001b[1;32m--> 192\u001b[1;33m         \u001b[1;32mraise\u001b[0m \u001b[0mexception_class\u001b[0m\u001b[1;33m(\u001b[0m\u001b[0mmessage\u001b[0m\u001b[1;33m,\u001b[0m \u001b[0mscreen\u001b[0m\u001b[1;33m,\u001b[0m \u001b[0mstacktrace\u001b[0m\u001b[1;33m)\u001b[0m\u001b[1;33m\u001b[0m\u001b[0m\n\u001b[0m\u001b[0;32m    193\u001b[0m \u001b[1;33m\u001b[0m\u001b[0m\n\u001b[0;32m    194\u001b[0m     \u001b[1;32mdef\u001b[0m \u001b[0m_value_or_default\u001b[0m\u001b[1;33m(\u001b[0m\u001b[0mself\u001b[0m\u001b[1;33m,\u001b[0m \u001b[0mobj\u001b[0m\u001b[1;33m,\u001b[0m \u001b[0mkey\u001b[0m\u001b[1;33m,\u001b[0m \u001b[0mdefault\u001b[0m\u001b[1;33m)\u001b[0m\u001b[1;33m:\u001b[0m\u001b[1;33m\u001b[0m\u001b[0m\n",
      "\u001b[1;31mNoSuchWindowException\u001b[0m: Message: no such window: target window already closed\nfrom unknown error: web view not found\n  (Session info: chrome=56.0.2924.87)\n  (Driver info: chromedriver=2.25.426923 (0390b88869384d6eb0d5d09729679f934aab9eed),platform=Windows NT 10.0.14393 x86_64)\n"
     ]
    }
   ],
   "source": [
    "busq = driver.find_element_by_name('Ntt')\n",
    "busq.send_keys('leche')\n",
    "driver.find_element_by_name('submit').click()"
   ]
  },
  {
   "cell_type": "code",
   "execution_count": 161,
   "metadata": {
    "collapsed": false
   },
   "outputs": [
    {
     "ename": "AttributeError",
     "evalue": "'NoneType' object has no attribute 'click'",
     "output_type": "error",
     "traceback": [
      "\u001b[1;31m---------------------------------------------------------------------------\u001b[0m",
      "\u001b[1;31mAttributeError\u001b[0m                            Traceback (most recent call last)",
      "\u001b[1;32m<ipython-input-161-ee8f673cf871>\u001b[0m in \u001b[0;36m<module>\u001b[1;34m()\u001b[0m\n\u001b[1;32m----> 1\u001b[1;33m \u001b[0mdriver\u001b[0m\u001b[1;33m.\u001b[0m\u001b[0mfind_element_by_id\u001b[0m\u001b[1;33m(\u001b[0m\u001b[1;34m'Bebés'\u001b[0m\u001b[1;33m)\u001b[0m\u001b[1;33m.\u001b[0m\u001b[0mclick\u001b[0m\u001b[1;33m(\u001b[0m\u001b[1;33m)\u001b[0m\u001b[1;33m\u001b[0m\u001b[0m\n\u001b[0m",
      "\u001b[1;31mAttributeError\u001b[0m: 'NoneType' object has no attribute 'click'"
     ]
    }
   ],
   "source": [
    "driver.find_element_by_id('Bebés').click()"
   ]
  },
  {
   "cell_type": "code",
   "execution_count": 261,
   "metadata": {
    "collapsed": true
   },
   "outputs": [],
   "source": [
    "BS3 = Bsoup(driver.page_source)"
   ]
  },
  {
   "cell_type": "code",
   "execution_count": 265,
   "metadata": {
    "collapsed": false
   },
   "outputs": [],
   "source": [
    "elementos3 = BS3.find(class_=\"listing-wrapper grid-view\").find_all(class_=\"product-detail-container\")\n",
    "# contruimos el diccionario para la base\n",
    "dic3 = [{'link':elem.find('a')['href'],'producto': elem.find('a').text, 'precio':elem.find(itemprop='price').text}\n",
    "           for elem in elementos]"
   ]
  },
  {
   "cell_type": "code",
   "execution_count": 268,
   "metadata": {
    "collapsed": false
   },
   "outputs": [],
   "source": [
    "bebes = pd.DataFrame.from_records(dic3)"
   ]
  },
  {
   "cell_type": "code",
   "execution_count": null,
   "metadata": {
    "collapsed": true
   },
   "outputs": [],
   "source": []
  }
 ],
 "metadata": {
  "anaconda-cloud": {},
  "kernelspec": {
   "display_name": "Python [Root]",
   "language": "python",
   "name": "Python [Root]"
  },
  "language_info": {
   "codemirror_mode": {
    "name": "ipython",
    "version": 2
   },
   "file_extension": ".py",
   "mimetype": "text/x-python",
   "name": "python",
   "nbconvert_exporter": "python",
   "pygments_lexer": "ipython2",
   "version": "2.7.12"
  },
  "nbpresent": {
   "slides": {
    "bb883d06-ef8a-4635-8dd9-48c77f2f7527": {
     "id": "bb883d06-ef8a-4635-8dd9-48c77f2f7527",
     "prev": null,
     "regions": {
      "f5db1e12-c09a-4699-a488-09b5d389acbc": {
       "attrs": {
        "height": 1,
        "width": 1,
        "x": 0,
        "y": 0
       },
       "content": {
        "cell": "7280e6c2-5ab7-40a9-938a-11a9cf2e28e9",
        "part": "source"
       },
       "id": "f5db1e12-c09a-4699-a488-09b5d389acbc"
      }
     }
    },
    "c363fcdb-cf83-4119-8145-cb32827ac3c1": {
     "id": "c363fcdb-cf83-4119-8145-cb32827ac3c1",
     "prev": "bb883d06-ef8a-4635-8dd9-48c77f2f7527",
     "regions": {
      "d689ef96-9b97-4eba-b5e4-dfd9cd858bc4": {
       "attrs": {
        "height": 0.8,
        "width": 0.2,
        "x": 0.1,
        "y": 0.1
       },
       "content": {
        "cell": "e47ba31a-b106-48e9-8aaf-d548f221fd68",
        "part": "source"
       },
       "id": "d689ef96-9b97-4eba-b5e4-dfd9cd858bc4"
      },
      "def324dd-a285-4692-9c0b-7c8377d1e2cc": {
       "attrs": {
        "height": 0.8,
        "width": 0.2,
        "x": 0.4,
        "y": 0.1
       },
       "id": "def324dd-a285-4692-9c0b-7c8377d1e2cc"
      },
      "e8aaae48-5f18-47b4-a1ef-5f4f2838249a": {
       "attrs": {
        "height": 0.8,
        "width": 0.2,
        "x": 0.7,
        "y": 0.1
       },
       "id": "e8aaae48-5f18-47b4-a1ef-5f4f2838249a"
      }
     }
    }
   },
   "themes": {
    "default": "510502dc-8d3f-43ce-8492-571c4efe3238",
    "theme": {}
   }
  }
 },
 "nbformat": 4,
 "nbformat_minor": 0
}
